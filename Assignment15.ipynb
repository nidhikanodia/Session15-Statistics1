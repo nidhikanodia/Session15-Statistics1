{
 "cells": [
  {
   "cell_type": "code",
   "execution_count": 23,
   "metadata": {},
   "outputs": [
    {
     "name": "stdout",
     "output_type": "stream",
     "text": [
      "The standard deviation for average rent being paid by households is: 335.92740617910624\n"
     ]
    }
   ],
   "source": [
    "#Question 1: Find the standard deviation for the average rent being paid by households\n",
    "\n",
    "#import the required libraries\n",
    "import numpy as np\n",
    "\n",
    "#Define the array having average rent being paid\n",
    "rent = np.array([1550, 1700, 900, 850, 1000, 950])\n",
    "\n",
    "#Find the mean using sum of all the values divided by no. of observations\n",
    "mean = rent.sum()/rent.size\n",
    "\n",
    "#Mean can also be calculated using below method\n",
    "mean = np.mean(rent)\n",
    "\n",
    "#Find the standard deviation by using mathematical formula\n",
    "\n",
    "#Assign a temporary variable to calculate sum of squares of deviations from the sample mean\n",
    "temp = 0\n",
    "\n",
    "#Iterate over the array and find square of deviation from the sample mean and add to the temporary value\n",
    "for i in rent:\n",
    "    temp = temp + (i - mean)**2\n",
    "    \n",
    "#Calculate variance by dividing the sum of squares of deviatons from the sample mean with sample size\n",
    "variance = temp/(rent.size)\n",
    "\n",
    "#Calculate standard deviation as square root of variance\n",
    "std_deviation = math.sqrt(variance)\n",
    "\n",
    "print(\"The standard deviation for average rent being paid by households is:\", std_deviation)\n",
    "#Standard deviation can also be calculated using this method - np.std(rent)\n"
   ]
  },
  {
   "cell_type": "code",
   "execution_count": 27,
   "metadata": {},
   "outputs": [
    {
     "name": "stdout",
     "output_type": "stream",
     "text": [
      "The variance for data representing tree height in California: 5183.25\n"
     ]
    }
   ],
   "source": [
    "#Question 2: Find the variance for data representing trees in California (heights in feet)\n",
    "\n",
    "#import the required libraries\n",
    "import numpy as np\n",
    "\n",
    "#Define the array having tree height in feet\n",
    "height = np.array([3, 21, 98, 203, 17, 9])\n",
    "\n",
    "#Find the mean using sum of all the values divided by no. of observations\n",
    "mean = height.sum()/height.size\n",
    "\n",
    "#Mean can also be calculated using below method\n",
    "mean = np.mean(height)\n",
    "\n",
    "#Find the standard deviation by using mathematical formula\n",
    "\n",
    "#Assign a temporary variable to calculate sum of squares of deviations from the sample mean\n",
    "temp = 0\n",
    "\n",
    "#Iterate over the array and find square of deviation from the sample mean and add to the temporary value\n",
    "for i in height:\n",
    "    temp = temp + (i - mean)**2\n",
    "    \n",
    "#Calculate variance by dividing the sum of squares of deviatons from the sample mean with sample size\n",
    "variance = temp/(height.size)\n",
    "\n",
    "print(\"The variance for data representing tree height in California:\", variance)\n",
    "\n",
    "#Variance can also be calculated using this method - np.var(height)\n",
    "\n"
   ]
  },
  {
   "cell_type": "code",
   "execution_count": null,
   "metadata": {},
   "outputs": [],
   "source": [
    "#Question 3: The probability distribution of the variable for number of subjects a student from the given class has failed in\n",
    "\n",
    "\n",
    "As per the question, X is count of subjects in which a student has failed. The possible values of X could be - 0, 1, 2, 3\n",
    "\n",
    "Probability that student failed in 0 subject = 80/100 = 0.8\n",
    "Probability that student failed in 1 subject = 10/100 = 0.1\n",
    "Probability that student failed in 2 subjects = 7/100 = 0.07\n",
    "Probability that student failed in 3 subjects = 3/100 = 0.03\n",
    "\n",
    "The probability distribution of the variable X for number of subjects a student from given class has failed in:\n",
    "    \n",
    "    No. of subjects in which a student has failed        Probability\n",
    "                        0                                     0.80\n",
    "                        1                                     0.10\n",
    "                        2                                     0.07\n",
    "                        3                                     0.03\n",
    "\n",
    "\n"
   ]
  },
  {
   "cell_type": "code",
   "execution_count": null,
   "metadata": {},
   "outputs": [],
   "source": []
  }
 ],
 "metadata": {
  "kernelspec": {
   "display_name": "Python 3",
   "language": "python",
   "name": "python3"
  },
  "language_info": {
   "codemirror_mode": {
    "name": "ipython",
    "version": 3
   },
   "file_extension": ".py",
   "mimetype": "text/x-python",
   "name": "python",
   "nbconvert_exporter": "python",
   "pygments_lexer": "ipython3",
   "version": "3.7.2"
  }
 },
 "nbformat": 4,
 "nbformat_minor": 2
}
